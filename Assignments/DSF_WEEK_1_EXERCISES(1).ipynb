{
 "cells": [
  {
   "cell_type": "markdown",
   "metadata": {
    "colab_type": "text",
    "id": "_a2hajcA99-K"
   },
   "source": [
    "![BTS](https://github.com/vfp1/bts-mbds-data-science-foundations-2019/blob/master/sessions/img/Logo-BTS.jpg?raw=1)\n",
    "\n",
    "# WEEK 1: Assignements\n",
    "\n",
    "### Victor F. Pajuelo Madrigal <victor.pajuelo@bts.tech> - Data Science Foundations (WEEK 1)\n",
    "\n",
    "Open this notebook in Google Colaboratory: [![Open in Colab](https://colab.research.google.com/assets/colab-badge.svg)](https://colab.research.google.com/github/vfp1/bts-mbds-data-science-foundations-2019/blob/master/sessions/DSF_WEEK_1_EXERCISES.ipynb)"
   ]
  },
  {
   "cell_type": "markdown",
   "metadata": {
    "colab_type": "text",
    "id": "HCvH2cLM_1Cq"
   },
   "source": [
    "# Exercise 1: slicing arrays [OPTIONAL]\n",
    "\n",
    "Given the array provided in the next cell. Do the following with slicing (check the other notebooks for examples)\n",
    "\n",
    "\n",
    "\n",
    "*   Print the whole array using slice\n",
    "*   Print number 12\n",
    "*   Reverse the array\n",
    "*   Reverse only one row in the array\n",
    "*   Slice the first three columns in the array\n",
    "*   Slice the last three columns and reverse them\n",
    "*   Slice the last two rows and print them\n",
    "*   Slice the last integers in a row\n",
    "*   Slice rows and columns\n",
    "\n",
    "\n",
    "[Here](https://machinelearningmastery.com/index-slice-reshape-numpy-arrays-machine-learning-python/) some good examples ;-)\n",
    "\n",
    "\n",
    "\n"
   ]
  },
  {
   "cell_type": "code",
   "execution_count": 23,
   "metadata": {
    "colab": {
     "base_uri": "https://localhost:8080/",
     "height": 90
    },
    "colab_type": "code",
    "id": "ksQUFmu3-HKl",
    "outputId": "47cf399e-63fe-4626-d475-d9f8f4c18462"
   },
   "outputs": [
    {
     "data": {
      "text/plain": [
       "array([[ 1,  2,  3,  4,  5],\n",
       "       [ 6,  7,  8,  9, 10],\n",
       "       [11, 12, 13, 14, 15],\n",
       "       [16, 17, 18, 19, 20]])"
      ]
     },
     "execution_count": 23,
     "metadata": {},
     "output_type": "execute_result"
    }
   ],
   "source": [
    "import numpy as np\n",
    "import pandas as pd\n",
    "import matplotlib.pyplot as plt\n",
    "\n",
    "a = [[1, 2, 3, 4, 5], [6, 7, 8, 9, 10], [11, 12, 13, 14, 15], [16, 17, 18, 19, 20]]\n",
    "nd_a = np.array(a)\n",
    "nd_a"
   ]
  },
  {
   "cell_type": "code",
   "execution_count": 24,
   "metadata": {},
   "outputs": [
    {
     "data": {
      "text/plain": [
       "(4, 5)"
      ]
     },
     "execution_count": 24,
     "metadata": {},
     "output_type": "execute_result"
    }
   ],
   "source": [
    "nd_a.shape"
   ]
  },
  {
   "cell_type": "markdown",
   "metadata": {},
   "source": [
    "Print the whole array using slice:"
   ]
  },
  {
   "cell_type": "code",
   "execution_count": 25,
   "metadata": {},
   "outputs": [
    {
     "data": {
      "text/plain": [
       "array([[ 1,  2,  3,  4,  5],\n",
       "       [ 6,  7,  8,  9, 10],\n",
       "       [11, 12, 13, 14, 15],\n",
       "       [16, 17, 18, 19, 20]])"
      ]
     },
     "execution_count": 25,
     "metadata": {},
     "output_type": "execute_result"
    }
   ],
   "source": [
    "slice = nd_a[::]\n",
    "slice\n"
   ]
  },
  {
   "cell_type": "markdown",
   "metadata": {},
   "source": [
    "Print number 12:"
   ]
  },
  {
   "cell_type": "code",
   "execution_count": 26,
   "metadata": {},
   "outputs": [
    {
     "data": {
      "text/plain": [
       "12"
      ]
     },
     "execution_count": 26,
     "metadata": {},
     "output_type": "execute_result"
    }
   ],
   "source": [
    "number_12 = nd_a[2,1]\n",
    "number_12"
   ]
  },
  {
   "cell_type": "markdown",
   "metadata": {},
   "source": [
    "Reverse the array:"
   ]
  },
  {
   "cell_type": "code",
   "execution_count": 27,
   "metadata": {},
   "outputs": [
    {
     "data": {
      "text/plain": [
       "array([[20, 19, 18, 17, 16],\n",
       "       [15, 14, 13, 12, 11],\n",
       "       [10,  9,  8,  7,  6],\n",
       "       [ 5,  4,  3,  2,  1]])"
      ]
     },
     "execution_count": 27,
     "metadata": {},
     "output_type": "execute_result"
    }
   ],
   "source": [
    "reversed = nd_a[::-1,::-1]\n",
    "reversed"
   ]
  },
  {
   "cell_type": "markdown",
   "metadata": {},
   "source": [
    "Reverse only one row in the array:"
   ]
  },
  {
   "cell_type": "code",
   "execution_count": 28,
   "metadata": {},
   "outputs": [
    {
     "data": {
      "text/plain": [
       "array([[ 1,  2,  3,  4,  5],\n",
       "       [ 6,  7,  8,  9, 10],\n",
       "       [15, 14, 13, 12, 11],\n",
       "       [16, 17, 18, 19, 20]])"
      ]
     },
     "execution_count": 28,
     "metadata": {},
     "output_type": "execute_result"
    }
   ],
   "source": [
    "one_row = nd_a\n",
    "one_row[2] = np.flip(one_row[2])\n",
    "\n",
    "one_row"
   ]
  },
  {
   "cell_type": "markdown",
   "metadata": {},
   "source": [
    "Slice the first three columns in the array:"
   ]
  },
  {
   "cell_type": "code",
   "execution_count": 29,
   "metadata": {},
   "outputs": [
    {
     "data": {
      "text/plain": [
       "array([[ 1,  2,  3],\n",
       "       [ 6,  7,  8],\n",
       "       [11, 12, 13],\n",
       "       [16, 17, 18]])"
      ]
     },
     "execution_count": 29,
     "metadata": {},
     "output_type": "execute_result"
    }
   ],
   "source": [
    "a = [[1, 2, 3, 4, 5], [6, 7, 8, 9, 10], [11, 12, 13, 14, 15], [16, 17, 18, 19, 20]]\n",
    "nd_a = np.array(a)\n",
    "\n",
    "first_three = nd_a[:,[0,1,2]]\n",
    "first_three"
   ]
  },
  {
   "cell_type": "markdown",
   "metadata": {},
   "source": [
    "Slice the last three columns and reverse them:"
   ]
  },
  {
   "cell_type": "code",
   "execution_count": 30,
   "metadata": {},
   "outputs": [
    {
     "data": {
      "text/plain": [
       "array([[ 5,  4,  3],\n",
       "       [10,  9,  8],\n",
       "       [15, 14, 13],\n",
       "       [20, 19, 18]])"
      ]
     },
     "execution_count": 30,
     "metadata": {},
     "output_type": "execute_result"
    }
   ],
   "source": [
    "last_three_reversed = nd_a[:,:-4:-1]\n",
    "last_three_reversed"
   ]
  },
  {
   "cell_type": "markdown",
   "metadata": {},
   "source": [
    "Slice the last two rows and print them:"
   ]
  },
  {
   "cell_type": "code",
   "execution_count": 31,
   "metadata": {},
   "outputs": [
    {
     "name": "stdout",
     "output_type": "stream",
     "text": [
      "[[11 12 13 14 15]\n",
      " [16 17 18 19 20]]\n"
     ]
    }
   ],
   "source": [
    "last_two_rows = nd_a[2::]\n",
    "print(last_two_rows)"
   ]
  },
  {
   "cell_type": "markdown",
   "metadata": {},
   "source": [
    "Slice the last integers in a row:"
   ]
  },
  {
   "cell_type": "code",
   "execution_count": 32,
   "metadata": {},
   "outputs": [
    {
     "data": {
      "text/plain": [
       "array([ 5, 10, 15, 20])"
      ]
     },
     "execution_count": 32,
     "metadata": {},
     "output_type": "execute_result"
    }
   ],
   "source": [
    "last_integers_in_row = nd_a[:,-1]\n",
    "last_integers_in_row"
   ]
  },
  {
   "cell_type": "markdown",
   "metadata": {},
   "source": [
    "Slice rows and columns:\n",
    "\n",
    "(comment: not sure what we had to do with that tasks)"
   ]
  },
  {
   "cell_type": "code",
   "execution_count": 33,
   "metadata": {},
   "outputs": [
    {
     "data": {
      "text/plain": [
       "array([[ 1,  6, 11, 16],\n",
       "       [ 2,  7, 12, 17],\n",
       "       [ 3,  8, 13, 18],\n",
       "       [ 4,  9, 14, 19],\n",
       "       [ 5, 10, 15, 20]])"
      ]
     },
     "execution_count": 33,
     "metadata": {},
     "output_type": "execute_result"
    }
   ],
   "source": [
    "slice_all = nd_a.T\n",
    "slice_all"
   ]
  },
  {
   "cell_type": "markdown",
   "metadata": {
    "colab_type": "text",
    "id": "XrA3YsGkQVY4"
   },
   "source": [
    "# Exercise 2: when is best to bike alone? [OPTIONAL]\n",
    "\n",
    "Given [this](https://github.com/vfp1/bts-mbds-data-science-foundations-2019/raw/master/sessions/data/Fremont_Bridge_Hourly_Bicycle_Counts_by_Month_October_2012_to_present.csv) dataset:\n",
    "\n",
    "* Open the dataset using Pandas\n",
    "* Display the DataFrame\n",
    "* Reply to the following questions (either by plotting the graph and summarizing the values):\n",
    "\n",
    "    * When are the busiest hours per week in Total?\n",
    "    * Where will you be more comfortable (alone) riding during the week in West or East?\n",
    "    * What about riding during the business days? When and where are the best hours to ride alone between 06:00 and 10:00? And between 15:00 and 20:00"
   ]
  },
  {
   "cell_type": "code",
   "execution_count": 34,
   "metadata": {},
   "outputs": [
    {
     "data": {
      "text/html": [
       "<div>\n",
       "<style scoped>\n",
       "    .dataframe tbody tr th:only-of-type {\n",
       "        vertical-align: middle;\n",
       "    }\n",
       "\n",
       "    .dataframe tbody tr th {\n",
       "        vertical-align: top;\n",
       "    }\n",
       "\n",
       "    .dataframe thead th {\n",
       "        text-align: right;\n",
       "    }\n",
       "</style>\n",
       "<table border=\"1\" class=\"dataframe\">\n",
       "  <thead>\n",
       "    <tr style=\"text-align: right;\">\n",
       "      <th></th>\n",
       "      <th>Fremont Bridge East Sidewalk</th>\n",
       "      <th>Fremont Bridge West Sidewalk</th>\n",
       "    </tr>\n",
       "    <tr>\n",
       "      <th>Date</th>\n",
       "      <th></th>\n",
       "      <th></th>\n",
       "    </tr>\n",
       "  </thead>\n",
       "  <tbody>\n",
       "    <tr>\n",
       "      <td>2015-02-24 02:00:00</td>\n",
       "      <td>3.0</td>\n",
       "      <td>3.0</td>\n",
       "    </tr>\n",
       "    <tr>\n",
       "      <td>2019-01-01 00:00:00</td>\n",
       "      <td>0.0</td>\n",
       "      <td>9.0</td>\n",
       "    </tr>\n",
       "    <tr>\n",
       "      <td>2019-01-01 01:00:00</td>\n",
       "      <td>2.0</td>\n",
       "      <td>22.0</td>\n",
       "    </tr>\n",
       "    <tr>\n",
       "      <td>2016-02-15 00:00:00</td>\n",
       "      <td>3.0</td>\n",
       "      <td>3.0</td>\n",
       "    </tr>\n",
       "    <tr>\n",
       "      <td>2019-01-01 02:00:00</td>\n",
       "      <td>1.0</td>\n",
       "      <td>11.0</td>\n",
       "    </tr>\n",
       "    <tr>\n",
       "      <td>2019-01-01 03:00:00</td>\n",
       "      <td>1.0</td>\n",
       "      <td>2.0</td>\n",
       "    </tr>\n",
       "    <tr>\n",
       "      <td>2019-01-01 04:00:00</td>\n",
       "      <td>2.0</td>\n",
       "      <td>1.0</td>\n",
       "    </tr>\n",
       "    <tr>\n",
       "      <td>2019-01-01 05:00:00</td>\n",
       "      <td>3.0</td>\n",
       "      <td>1.0</td>\n",
       "    </tr>\n",
       "    <tr>\n",
       "      <td>2019-01-01 06:00:00</td>\n",
       "      <td>4.0</td>\n",
       "      <td>7.0</td>\n",
       "    </tr>\n",
       "    <tr>\n",
       "      <td>2019-01-01 07:00:00</td>\n",
       "      <td>1.0</td>\n",
       "      <td>2.0</td>\n",
       "    </tr>\n",
       "  </tbody>\n",
       "</table>\n",
       "</div>"
      ],
      "text/plain": [
       "                     Fremont Bridge East Sidewalk  \\\n",
       "Date                                                \n",
       "2015-02-24 02:00:00                           3.0   \n",
       "2019-01-01 00:00:00                           0.0   \n",
       "2019-01-01 01:00:00                           2.0   \n",
       "2016-02-15 00:00:00                           3.0   \n",
       "2019-01-01 02:00:00                           1.0   \n",
       "2019-01-01 03:00:00                           1.0   \n",
       "2019-01-01 04:00:00                           2.0   \n",
       "2019-01-01 05:00:00                           3.0   \n",
       "2019-01-01 06:00:00                           4.0   \n",
       "2019-01-01 07:00:00                           1.0   \n",
       "\n",
       "                     Fremont Bridge West Sidewalk  \n",
       "Date                                               \n",
       "2015-02-24 02:00:00                           3.0  \n",
       "2019-01-01 00:00:00                           9.0  \n",
       "2019-01-01 01:00:00                          22.0  \n",
       "2016-02-15 00:00:00                           3.0  \n",
       "2019-01-01 02:00:00                          11.0  \n",
       "2019-01-01 03:00:00                           2.0  \n",
       "2019-01-01 04:00:00                           1.0  \n",
       "2019-01-01 05:00:00                           1.0  \n",
       "2019-01-01 06:00:00                           7.0  \n",
       "2019-01-01 07:00:00                           2.0  "
      ]
     },
     "execution_count": 34,
     "metadata": {},
     "output_type": "execute_result"
    }
   ],
   "source": [
    "import numpy as np\n",
    "import pandas as pd\n",
    "import matplotlib.pyplot as plt\n",
    "\n",
    "bikes = pd.read_csv(\"https://raw.githubusercontent.com/vfp1/bts-mbds-data-science-foundations-2019/master/sessions/data/Fremont_Bridge_Hourly_Bicycle_Counts_by_Month_October_2012_to_present.csv\", index_col='Date', parse_dates=True)\n",
    "bikes.head(10)"
   ]
  },
  {
   "cell_type": "code",
   "execution_count": 35,
   "metadata": {},
   "outputs": [
    {
     "data": {
      "text/html": [
       "<div>\n",
       "<style scoped>\n",
       "    .dataframe tbody tr th:only-of-type {\n",
       "        vertical-align: middle;\n",
       "    }\n",
       "\n",
       "    .dataframe tbody tr th {\n",
       "        vertical-align: top;\n",
       "    }\n",
       "\n",
       "    .dataframe thead th {\n",
       "        text-align: right;\n",
       "    }\n",
       "</style>\n",
       "<table border=\"1\" class=\"dataframe\">\n",
       "  <thead>\n",
       "    <tr style=\"text-align: right;\">\n",
       "      <th></th>\n",
       "      <th>Fremont Bridge East Sidewalk</th>\n",
       "      <th>Fremont Bridge West Sidewalk</th>\n",
       "    </tr>\n",
       "  </thead>\n",
       "  <tbody>\n",
       "    <tr>\n",
       "      <td>count</td>\n",
       "      <td>61287.000000</td>\n",
       "      <td>61287.000000</td>\n",
       "    </tr>\n",
       "    <tr>\n",
       "      <td>mean</td>\n",
       "      <td>52.894790</td>\n",
       "      <td>61.444874</td>\n",
       "    </tr>\n",
       "    <tr>\n",
       "      <td>std</td>\n",
       "      <td>67.815951</td>\n",
       "      <td>89.875981</td>\n",
       "    </tr>\n",
       "    <tr>\n",
       "      <td>min</td>\n",
       "      <td>0.000000</td>\n",
       "      <td>0.000000</td>\n",
       "    </tr>\n",
       "    <tr>\n",
       "      <td>25%</td>\n",
       "      <td>7.000000</td>\n",
       "      <td>7.000000</td>\n",
       "    </tr>\n",
       "    <tr>\n",
       "      <td>50%</td>\n",
       "      <td>29.000000</td>\n",
       "      <td>30.000000</td>\n",
       "    </tr>\n",
       "    <tr>\n",
       "      <td>75%</td>\n",
       "      <td>71.000000</td>\n",
       "      <td>74.000000</td>\n",
       "    </tr>\n",
       "    <tr>\n",
       "      <td>max</td>\n",
       "      <td>698.000000</td>\n",
       "      <td>850.000000</td>\n",
       "    </tr>\n",
       "  </tbody>\n",
       "</table>\n",
       "</div>"
      ],
      "text/plain": [
       "       Fremont Bridge East Sidewalk  Fremont Bridge West Sidewalk\n",
       "count                  61287.000000                  61287.000000\n",
       "mean                      52.894790                     61.444874\n",
       "std                       67.815951                     89.875981\n",
       "min                        0.000000                      0.000000\n",
       "25%                        7.000000                      7.000000\n",
       "50%                       29.000000                     30.000000\n",
       "75%                       71.000000                     74.000000\n",
       "max                      698.000000                    850.000000"
      ]
     },
     "execution_count": 35,
     "metadata": {},
     "output_type": "execute_result"
    }
   ],
   "source": [
    "bikes.describe()"
   ]
  },
  {
   "cell_type": "code",
   "execution_count": 36,
   "metadata": {},
   "outputs": [],
   "source": [
    "bikes.columns = ['East', 'West']\n",
    "bikes['Total'] = bikes.eval('East + West')"
   ]
  },
  {
   "cell_type": "code",
   "execution_count": 37,
   "metadata": {},
   "outputs": [
    {
     "data": {
      "text/html": [
       "<div>\n",
       "<style scoped>\n",
       "    .dataframe tbody tr th:only-of-type {\n",
       "        vertical-align: middle;\n",
       "    }\n",
       "\n",
       "    .dataframe tbody tr th {\n",
       "        vertical-align: top;\n",
       "    }\n",
       "\n",
       "    .dataframe thead th {\n",
       "        text-align: right;\n",
       "    }\n",
       "</style>\n",
       "<table border=\"1\" class=\"dataframe\">\n",
       "  <thead>\n",
       "    <tr style=\"text-align: right;\">\n",
       "      <th></th>\n",
       "      <th>East</th>\n",
       "      <th>West</th>\n",
       "      <th>Total</th>\n",
       "    </tr>\n",
       "  </thead>\n",
       "  <tbody>\n",
       "    <tr>\n",
       "      <td>count</td>\n",
       "      <td>61287.000000</td>\n",
       "      <td>61287.000000</td>\n",
       "      <td>61287.000000</td>\n",
       "    </tr>\n",
       "    <tr>\n",
       "      <td>mean</td>\n",
       "      <td>52.894790</td>\n",
       "      <td>61.444874</td>\n",
       "      <td>114.339664</td>\n",
       "    </tr>\n",
       "    <tr>\n",
       "      <td>std</td>\n",
       "      <td>67.815951</td>\n",
       "      <td>89.875981</td>\n",
       "      <td>145.211368</td>\n",
       "    </tr>\n",
       "    <tr>\n",
       "      <td>min</td>\n",
       "      <td>0.000000</td>\n",
       "      <td>0.000000</td>\n",
       "      <td>0.000000</td>\n",
       "    </tr>\n",
       "    <tr>\n",
       "      <td>25%</td>\n",
       "      <td>7.000000</td>\n",
       "      <td>7.000000</td>\n",
       "      <td>15.000000</td>\n",
       "    </tr>\n",
       "    <tr>\n",
       "      <td>50%</td>\n",
       "      <td>29.000000</td>\n",
       "      <td>30.000000</td>\n",
       "      <td>62.000000</td>\n",
       "    </tr>\n",
       "    <tr>\n",
       "      <td>75%</td>\n",
       "      <td>71.000000</td>\n",
       "      <td>74.000000</td>\n",
       "      <td>150.000000</td>\n",
       "    </tr>\n",
       "    <tr>\n",
       "      <td>max</td>\n",
       "      <td>698.000000</td>\n",
       "      <td>850.000000</td>\n",
       "      <td>1097.000000</td>\n",
       "    </tr>\n",
       "  </tbody>\n",
       "</table>\n",
       "</div>"
      ],
      "text/plain": [
       "               East          West         Total\n",
       "count  61287.000000  61287.000000  61287.000000\n",
       "mean      52.894790     61.444874    114.339664\n",
       "std       67.815951     89.875981    145.211368\n",
       "min        0.000000      0.000000      0.000000\n",
       "25%        7.000000      7.000000     15.000000\n",
       "50%       29.000000     30.000000     62.000000\n",
       "75%       71.000000     74.000000    150.000000\n",
       "max      698.000000    850.000000   1097.000000"
      ]
     },
     "execution_count": 37,
     "metadata": {},
     "output_type": "execute_result"
    }
   ],
   "source": [
    "bikes.describe()"
   ]
  },
  {
   "cell_type": "code",
   "execution_count": 38,
   "metadata": {},
   "outputs": [],
   "source": [
    "%matplotlib inline\n",
    "import seaborn; seaborn.set()\n"
   ]
  },
  {
   "cell_type": "code",
   "execution_count": 39,
   "metadata": {},
   "outputs": [
    {
     "data": {
      "image/png": "[encoded data removed]",
      "text/plain": [
       "<Figure size 432x288 with 1 Axes>"
      ]
     },
     "metadata": {},
     "output_type": "display_data"
    }
   ],
   "source": [
    "bikes.plot()\n",
    "plt.ylabel('Bikes Count');"
   ]
  },
  {
   "cell_type": "code",
   "execution_count": 40,
   "metadata": {},
   "outputs": [
    {
     "data": {
      "image/png": "[encoded data removed]",
      "text/plain": [
       "<Figure size 432x288 with 1 Axes>"
      ]
     },
     "metadata": {},
     "output_type": "display_data"
    }
   ],
   "source": [
    "weekly = bikes.resample('W').sum()\n",
    "weekly.plot(style=[':', '--', '-'])\n",
    "plt.ylabel('Weekly Bikes Count');"
   ]
  },
  {
   "cell_type": "code",
   "execution_count": 51,
   "metadata": {},
   "outputs": [
    {
     "data": {
      "image/png": "[encoded data removed]",
      "text/plain": [
       "<Figure size 432x288 with 1 Axes>"
      ]
     },
     "metadata": {},
     "output_type": "display_data"
    }
   ],
   "source": [
    "by_time = bikes.groupby(bikes.index.time).mean()\n",
    "hourly_ticks = 4 * 60 * 60 * np.arange(6)\n",
    "by_time.plot(xticks=hourly_ticks, style=[':', '--', '-']);"
   ]
  },
  {
   "cell_type": "markdown",
   "metadata": {},
   "source": [
    "1) Busiest hours per week around 8am and 5pm <br>\n",
    "2) To avoid traffic, riding westside in the morning and eastside in the evening is recommended"
   ]
  },
  {
   "cell_type": "code",
   "execution_count": 53,
   "metadata": {},
   "outputs": [
    {
     "data": {
      "image/png": "[encoded data removed]",
      "text/plain": [
       "<Figure size 432x288 with 1 Axes>"
      ]
     },
     "metadata": {},
     "output_type": "display_data"
    }
   ],
   "source": [
    "by_weekday = bikes.groupby(bikes.index.weekday).mean()\n",
    "by_weekday.index = ['Mon', 'Tue', 'Wed', 'Thu', 'Fri', 'Sat', 'Sun']\n",
    "by_weekday.plot(style=[':', '--', '-']);"
   ]
  },
  {
   "cell_type": "code",
   "execution_count": 63,
   "metadata": {},
   "outputs": [
    {
     "data": {
      "text/html": [
       "<div>\n",
       "<style scoped>\n",
       "    .dataframe tbody tr th:only-of-type {\n",
       "        vertical-align: middle;\n",
       "    }\n",
       "\n",
       "    .dataframe tbody tr th {\n",
       "        vertical-align: top;\n",
       "    }\n",
       "\n",
       "    .dataframe thead th {\n",
       "        text-align: right;\n",
       "    }\n",
       "</style>\n",
       "<table border=\"1\" class=\"dataframe\">\n",
       "  <thead>\n",
       "    <tr style=\"text-align: right;\">\n",
       "      <th></th>\n",
       "      <th></th>\n",
       "      <th>East</th>\n",
       "      <th>West</th>\n",
       "      <th>Total</th>\n",
       "    </tr>\n",
       "  </thead>\n",
       "  <tbody>\n",
       "    <tr>\n",
       "      <td rowspan=\"24\" valign=\"top\">Weekday</td>\n",
       "      <td>00:00:00</td>\n",
       "      <td>4.289474</td>\n",
       "      <td>5.638158</td>\n",
       "      <td>9.927632</td>\n",
       "    </tr>\n",
       "    <tr>\n",
       "      <td>01:00:00</td>\n",
       "      <td>2.231360</td>\n",
       "      <td>2.682566</td>\n",
       "      <td>4.913925</td>\n",
       "    </tr>\n",
       "    <tr>\n",
       "      <td>02:00:00</td>\n",
       "      <td>1.633224</td>\n",
       "      <td>1.652412</td>\n",
       "      <td>3.285636</td>\n",
       "    </tr>\n",
       "    <tr>\n",
       "      <td>03:00:00</td>\n",
       "      <td>1.459430</td>\n",
       "      <td>1.341009</td>\n",
       "      <td>2.800439</td>\n",
       "    </tr>\n",
       "    <tr>\n",
       "      <td>04:00:00</td>\n",
       "      <td>4.304276</td>\n",
       "      <td>3.456140</td>\n",
       "      <td>7.760417</td>\n",
       "    </tr>\n",
       "    <tr>\n",
       "      <td>05:00:00</td>\n",
       "      <td>21.259320</td>\n",
       "      <td>12.713268</td>\n",
       "      <td>33.972588</td>\n",
       "    </tr>\n",
       "    <tr>\n",
       "      <td>06:00:00</td>\n",
       "      <td>75.686404</td>\n",
       "      <td>46.796053</td>\n",
       "      <td>122.482456</td>\n",
       "    </tr>\n",
       "    <tr>\n",
       "      <td>07:00:00</td>\n",
       "      <td>199.649123</td>\n",
       "      <td>113.598136</td>\n",
       "      <td>313.247259</td>\n",
       "    </tr>\n",
       "    <tr>\n",
       "      <td>08:00:00</td>\n",
       "      <td>264.989035</td>\n",
       "      <td>171.995614</td>\n",
       "      <td>436.984649</td>\n",
       "    </tr>\n",
       "    <tr>\n",
       "      <td>09:00:00</td>\n",
       "      <td>131.913878</td>\n",
       "      <td>104.257268</td>\n",
       "      <td>236.171146</td>\n",
       "    </tr>\n",
       "    <tr>\n",
       "      <td>10:00:00</td>\n",
       "      <td>53.517828</td>\n",
       "      <td>47.388371</td>\n",
       "      <td>100.906199</td>\n",
       "    </tr>\n",
       "    <tr>\n",
       "      <td>11:00:00</td>\n",
       "      <td>39.803620</td>\n",
       "      <td>36.080636</td>\n",
       "      <td>75.884257</td>\n",
       "    </tr>\n",
       "    <tr>\n",
       "      <td>12:00:00</td>\n",
       "      <td>39.780033</td>\n",
       "      <td>38.393308</td>\n",
       "      <td>78.173341</td>\n",
       "    </tr>\n",
       "    <tr>\n",
       "      <td>13:00:00</td>\n",
       "      <td>41.923246</td>\n",
       "      <td>42.398026</td>\n",
       "      <td>84.321272</td>\n",
       "    </tr>\n",
       "    <tr>\n",
       "      <td>14:00:00</td>\n",
       "      <td>44.238487</td>\n",
       "      <td>51.272478</td>\n",
       "      <td>95.510965</td>\n",
       "    </tr>\n",
       "    <tr>\n",
       "      <td>15:00:00</td>\n",
       "      <td>58.081689</td>\n",
       "      <td>80.104167</td>\n",
       "      <td>138.185855</td>\n",
       "    </tr>\n",
       "    <tr>\n",
       "      <td>16:00:00</td>\n",
       "      <td>90.699561</td>\n",
       "      <td>181.498355</td>\n",
       "      <td>272.197917</td>\n",
       "    </tr>\n",
       "    <tr>\n",
       "      <td>17:00:00</td>\n",
       "      <td>138.552083</td>\n",
       "      <td>370.560855</td>\n",
       "      <td>509.112939</td>\n",
       "    </tr>\n",
       "    <tr>\n",
       "      <td>18:00:00</td>\n",
       "      <td>111.139254</td>\n",
       "      <td>232.707237</td>\n",
       "      <td>343.846491</td>\n",
       "    </tr>\n",
       "    <tr>\n",
       "      <td>19:00:00</td>\n",
       "      <td>59.467105</td>\n",
       "      <td>103.350329</td>\n",
       "      <td>162.817434</td>\n",
       "    </tr>\n",
       "    <tr>\n",
       "      <td>20:00:00</td>\n",
       "      <td>35.828399</td>\n",
       "      <td>54.611294</td>\n",
       "      <td>90.439693</td>\n",
       "    </tr>\n",
       "    <tr>\n",
       "      <td>21:00:00</td>\n",
       "      <td>24.645285</td>\n",
       "      <td>32.141996</td>\n",
       "      <td>56.787281</td>\n",
       "    </tr>\n",
       "    <tr>\n",
       "      <td>22:00:00</td>\n",
       "      <td>15.536732</td>\n",
       "      <td>20.751645</td>\n",
       "      <td>36.288377</td>\n",
       "    </tr>\n",
       "    <tr>\n",
       "      <td>23:00:00</td>\n",
       "      <td>9.354167</td>\n",
       "      <td>13.413925</td>\n",
       "      <td>22.768092</td>\n",
       "    </tr>\n",
       "    <tr>\n",
       "      <td rowspan=\"24\" valign=\"top\">Weekend</td>\n",
       "      <td>00:00:00</td>\n",
       "      <td>6.967123</td>\n",
       "      <td>9.686301</td>\n",
       "      <td>16.653425</td>\n",
       "    </tr>\n",
       "    <tr>\n",
       "      <td>01:00:00</td>\n",
       "      <td>4.310959</td>\n",
       "      <td>5.360274</td>\n",
       "      <td>9.671233</td>\n",
       "    </tr>\n",
       "    <tr>\n",
       "      <td>02:00:00</td>\n",
       "      <td>2.936552</td>\n",
       "      <td>3.315862</td>\n",
       "      <td>6.252414</td>\n",
       "    </tr>\n",
       "    <tr>\n",
       "      <td>03:00:00</td>\n",
       "      <td>1.838356</td>\n",
       "      <td>1.791781</td>\n",
       "      <td>3.630137</td>\n",
       "    </tr>\n",
       "    <tr>\n",
       "      <td>04:00:00</td>\n",
       "      <td>1.669863</td>\n",
       "      <td>2.360274</td>\n",
       "      <td>4.030137</td>\n",
       "    </tr>\n",
       "    <tr>\n",
       "      <td>05:00:00</td>\n",
       "      <td>4.091781</td>\n",
       "      <td>3.480822</td>\n",
       "      <td>7.572603</td>\n",
       "    </tr>\n",
       "    <tr>\n",
       "      <td>06:00:00</td>\n",
       "      <td>8.257534</td>\n",
       "      <td>9.142466</td>\n",
       "      <td>17.400000</td>\n",
       "    </tr>\n",
       "    <tr>\n",
       "      <td>07:00:00</td>\n",
       "      <td>17.294521</td>\n",
       "      <td>15.779452</td>\n",
       "      <td>33.073973</td>\n",
       "    </tr>\n",
       "    <tr>\n",
       "      <td>08:00:00</td>\n",
       "      <td>32.327397</td>\n",
       "      <td>28.852055</td>\n",
       "      <td>61.179452</td>\n",
       "    </tr>\n",
       "    <tr>\n",
       "      <td>09:00:00</td>\n",
       "      <td>43.693151</td>\n",
       "      <td>39.236986</td>\n",
       "      <td>82.930137</td>\n",
       "    </tr>\n",
       "    <tr>\n",
       "      <td>10:00:00</td>\n",
       "      <td>53.871233</td>\n",
       "      <td>46.616438</td>\n",
       "      <td>100.487671</td>\n",
       "    </tr>\n",
       "    <tr>\n",
       "      <td>11:00:00</td>\n",
       "      <td>63.030137</td>\n",
       "      <td>57.606849</td>\n",
       "      <td>120.636986</td>\n",
       "    </tr>\n",
       "    <tr>\n",
       "      <td>12:00:00</td>\n",
       "      <td>68.989041</td>\n",
       "      <td>63.894521</td>\n",
       "      <td>132.883562</td>\n",
       "    </tr>\n",
       "    <tr>\n",
       "      <td>13:00:00</td>\n",
       "      <td>71.606849</td>\n",
       "      <td>67.784932</td>\n",
       "      <td>139.391781</td>\n",
       "    </tr>\n",
       "    <tr>\n",
       "      <td>14:00:00</td>\n",
       "      <td>72.678082</td>\n",
       "      <td>68.547945</td>\n",
       "      <td>141.226027</td>\n",
       "    </tr>\n",
       "    <tr>\n",
       "      <td>15:00:00</td>\n",
       "      <td>71.323288</td>\n",
       "      <td>67.806849</td>\n",
       "      <td>139.130137</td>\n",
       "    </tr>\n",
       "    <tr>\n",
       "      <td>16:00:00</td>\n",
       "      <td>65.854795</td>\n",
       "      <td>63.156164</td>\n",
       "      <td>129.010959</td>\n",
       "    </tr>\n",
       "    <tr>\n",
       "      <td>17:00:00</td>\n",
       "      <td>54.650685</td>\n",
       "      <td>53.521918</td>\n",
       "      <td>108.172603</td>\n",
       "    </tr>\n",
       "    <tr>\n",
       "      <td>18:00:00</td>\n",
       "      <td>42.812329</td>\n",
       "      <td>41.430137</td>\n",
       "      <td>84.242466</td>\n",
       "    </tr>\n",
       "    <tr>\n",
       "      <td>19:00:00</td>\n",
       "      <td>28.308219</td>\n",
       "      <td>28.831507</td>\n",
       "      <td>57.139726</td>\n",
       "    </tr>\n",
       "    <tr>\n",
       "      <td>20:00:00</td>\n",
       "      <td>19.997260</td>\n",
       "      <td>22.063014</td>\n",
       "      <td>42.060274</td>\n",
       "    </tr>\n",
       "    <tr>\n",
       "      <td>21:00:00</td>\n",
       "      <td>14.012329</td>\n",
       "      <td>15.993151</td>\n",
       "      <td>30.005479</td>\n",
       "    </tr>\n",
       "    <tr>\n",
       "      <td>22:00:00</td>\n",
       "      <td>10.250685</td>\n",
       "      <td>12.505479</td>\n",
       "      <td>22.756164</td>\n",
       "    </tr>\n",
       "    <tr>\n",
       "      <td>23:00:00</td>\n",
       "      <td>7.438356</td>\n",
       "      <td>10.573973</td>\n",
       "      <td>18.012329</td>\n",
       "    </tr>\n",
       "  </tbody>\n",
       "</table>\n",
       "</div>"
      ],
      "text/plain": [
       "                        East        West       Total\n",
       "Weekday 00:00:00    4.289474    5.638158    9.927632\n",
       "        01:00:00    2.231360    2.682566    4.913925\n",
       "        02:00:00    1.633224    1.652412    3.285636\n",
       "        03:00:00    1.459430    1.341009    2.800439\n",
       "        04:00:00    4.304276    3.456140    7.760417\n",
       "        05:00:00   21.259320   12.713268   33.972588\n",
       "        06:00:00   75.686404   46.796053  122.482456\n",
       "        07:00:00  199.649123  113.598136  313.247259\n",
       "        08:00:00  264.989035  171.995614  436.984649\n",
       "        09:00:00  131.913878  104.257268  236.171146\n",
       "        10:00:00   53.517828   47.388371  100.906199\n",
       "        11:00:00   39.803620   36.080636   75.884257\n",
       "        12:00:00   39.780033   38.393308   78.173341\n",
       "        13:00:00   41.923246   42.398026   84.321272\n",
       "        14:00:00   44.238487   51.272478   95.510965\n",
       "        15:00:00   58.081689   80.104167  138.185855\n",
       "        16:00:00   90.699561  181.498355  272.197917\n",
       "        17:00:00  138.552083  370.560855  509.112939\n",
       "        18:00:00  111.139254  232.707237  343.846491\n",
       "        19:00:00   59.467105  103.350329  162.817434\n",
       "        20:00:00   35.828399   54.611294   90.439693\n",
       "        21:00:00   24.645285   32.141996   56.787281\n",
       "        22:00:00   15.536732   20.751645   36.288377\n",
       "        23:00:00    9.354167   13.413925   22.768092\n",
       "Weekend 00:00:00    6.967123    9.686301   16.653425\n",
       "        01:00:00    4.310959    5.360274    9.671233\n",
       "        02:00:00    2.936552    3.315862    6.252414\n",
       "        03:00:00    1.838356    1.791781    3.630137\n",
       "        04:00:00    1.669863    2.360274    4.030137\n",
       "        05:00:00    4.091781    3.480822    7.572603\n",
       "        06:00:00    8.257534    9.142466   17.400000\n",
       "        07:00:00   17.294521   15.779452   33.073973\n",
       "        08:00:00   32.327397   28.852055   61.179452\n",
       "        09:00:00   43.693151   39.236986   82.930137\n",
       "        10:00:00   53.871233   46.616438  100.487671\n",
       "        11:00:00   63.030137   57.606849  120.636986\n",
       "        12:00:00   68.989041   63.894521  132.883562\n",
       "        13:00:00   71.606849   67.784932  139.391781\n",
       "        14:00:00   72.678082   68.547945  141.226027\n",
       "        15:00:00   71.323288   67.806849  139.130137\n",
       "        16:00:00   65.854795   63.156164  129.010959\n",
       "        17:00:00   54.650685   53.521918  108.172603\n",
       "        18:00:00   42.812329   41.430137   84.242466\n",
       "        19:00:00   28.308219   28.831507   57.139726\n",
       "        20:00:00   19.997260   22.063014   42.060274\n",
       "        21:00:00   14.012329   15.993151   30.005479\n",
       "        22:00:00   10.250685   12.505479   22.756164\n",
       "        23:00:00    7.438356   10.573973   18.012329"
      ]
     },
     "execution_count": 63,
     "metadata": {},
     "output_type": "execute_result"
    }
   ],
   "source": [
    "weekend = np.where(bikes.index.weekday < 5, 'Weekday', 'Weekend')\n",
    "weekend\n",
    "by_time = bikes.groupby([weekend, bikes.index.time]).mean()\n",
    "by_time"
   ]
  },
  {
   "cell_type": "markdown",
   "metadata": {},
   "source": [
    "What about riding during the business days? When and where are the best hours to ride alone between 06:00 and 10:00? And between 15:00 and 20:00\n",
    "\n",
    "Only weekdays:"
   ]
  },
  {
   "cell_type": "code",
   "execution_count": 64,
   "metadata": {},
   "outputs": [
    {
     "data": {
      "image/png": "[encoded data removed]",
      "text/plain": [
       "<Figure size 432x288 with 1 Axes>"
      ]
     },
     "metadata": {},
     "output_type": "display_data"
    }
   ],
   "source": [
    "import matplotlib.pyplot as plt\n",
    "by_time.loc['Weekday'].plot(xticks=hourly_ticks, style=[':', '--', '-']);"
   ]
  },
  {
   "cell_type": "markdown",
   "metadata": {},
   "source": [
    "Plotting weekdays and weekends:"
   ]
  },
  {
   "cell_type": "code",
   "execution_count": 74,
   "metadata": {},
   "outputs": [
    {
     "data": {
      "image/png": "[encoded data removed]",
      "text/plain": [
       "<Figure size 1008x360 with 2 Axes>"
      ]
     },
     "metadata": {},
     "output_type": "display_data"
    }
   ],
   "source": [
    "fig, ax = plt.subplots(1, 2, figsize=(14, 5))\n",
    "by_time.loc['Weekday'].plot(ax=ax[0], title='Weekdays',\n",
    "                           xticks=hourly_ticks, style=[':', '--', '-'])\n",
    "by_time.loc['Weekend'].plot(ax=ax[1], title='Weekends',\n",
    "                           xticks=hourly_ticks, style=[':', '--', '-']);"
   ]
  },
  {
   "cell_type": "markdown",
   "metadata": {},
   "source": [
    "- during weekdays between 6-10am, riding westside is recommended\n",
    "- between 3-8pm, riding eastside ist recommended"
   ]
  },
  {
   "cell_type": "markdown",
   "metadata": {
    "colab_type": "text",
    "id": "kRIP0xZeYrvn"
   },
   "source": [
    "# Exercise 3: let's get rich! [OPTIONAL]\n",
    "\n",
    "Given this apple stock history [this dataset](https://github.com/vfp1/bts-mbds-data-science-foundations-2019/raw/master/sessions/data/appl_1980_2014.csv)\n",
    "\n",
    "* Open the dataset using Pandas\n",
    "* Display the DataFrame\n",
    "* Reply to the following questions (either by plotting the graph and summarizing the values):\n",
    "\n",
    "    * How much money will you have now if you bought 10 stocks for Apple at the end of January 2000 and you sold it at the end of 2013\n",
    "    * When was the peak maximum of volume of trades done?\n",
    "    * When was the month with the lowest close?\n",
    "    * And the lowest close of the day in the whole dataset?"
   ]
  },
  {
   "cell_type": "code",
   "execution_count": 187,
   "metadata": {},
   "outputs": [
    {
     "data": {
      "text/html": [
       "<div>\n",
       "<style scoped>\n",
       "    .dataframe tbody tr th:only-of-type {\n",
       "        vertical-align: middle;\n",
       "    }\n",
       "\n",
       "    .dataframe tbody tr th {\n",
       "        vertical-align: top;\n",
       "    }\n",
       "\n",
       "    .dataframe thead th {\n",
       "        text-align: right;\n",
       "    }\n",
       "</style>\n",
       "<table border=\"1\" class=\"dataframe\">\n",
       "  <thead>\n",
       "    <tr style=\"text-align: right;\">\n",
       "      <th></th>\n",
       "      <th>Date</th>\n",
       "      <th>Open</th>\n",
       "      <th>High</th>\n",
       "      <th>Low</th>\n",
       "      <th>Close</th>\n",
       "      <th>Volume</th>\n",
       "      <th>Adj Close</th>\n",
       "    </tr>\n",
       "  </thead>\n",
       "  <tbody>\n",
       "    <tr>\n",
       "      <td>0</td>\n",
       "      <td>2014-07-08</td>\n",
       "      <td>96.27</td>\n",
       "      <td>96.80</td>\n",
       "      <td>93.92</td>\n",
       "      <td>95.35</td>\n",
       "      <td>65130000</td>\n",
       "      <td>95.35</td>\n",
       "    </tr>\n",
       "    <tr>\n",
       "      <td>1</td>\n",
       "      <td>2014-07-07</td>\n",
       "      <td>94.14</td>\n",
       "      <td>95.99</td>\n",
       "      <td>94.10</td>\n",
       "      <td>95.97</td>\n",
       "      <td>56305400</td>\n",
       "      <td>95.97</td>\n",
       "    </tr>\n",
       "    <tr>\n",
       "      <td>2</td>\n",
       "      <td>2014-07-03</td>\n",
       "      <td>93.67</td>\n",
       "      <td>94.10</td>\n",
       "      <td>93.20</td>\n",
       "      <td>94.03</td>\n",
       "      <td>22891800</td>\n",
       "      <td>94.03</td>\n",
       "    </tr>\n",
       "    <tr>\n",
       "      <td>3</td>\n",
       "      <td>2014-07-02</td>\n",
       "      <td>93.87</td>\n",
       "      <td>94.06</td>\n",
       "      <td>93.09</td>\n",
       "      <td>93.48</td>\n",
       "      <td>28420900</td>\n",
       "      <td>93.48</td>\n",
       "    </tr>\n",
       "    <tr>\n",
       "      <td>4</td>\n",
       "      <td>2014-07-01</td>\n",
       "      <td>93.52</td>\n",
       "      <td>94.07</td>\n",
       "      <td>93.13</td>\n",
       "      <td>93.52</td>\n",
       "      <td>38170200</td>\n",
       "      <td>93.52</td>\n",
       "    </tr>\n",
       "    <tr>\n",
       "      <td>5</td>\n",
       "      <td>2014-06-30</td>\n",
       "      <td>92.10</td>\n",
       "      <td>93.73</td>\n",
       "      <td>92.09</td>\n",
       "      <td>92.93</td>\n",
       "      <td>49482300</td>\n",
       "      <td>92.93</td>\n",
       "    </tr>\n",
       "    <tr>\n",
       "      <td>6</td>\n",
       "      <td>2014-06-27</td>\n",
       "      <td>90.82</td>\n",
       "      <td>92.00</td>\n",
       "      <td>90.77</td>\n",
       "      <td>91.98</td>\n",
       "      <td>64006800</td>\n",
       "      <td>91.98</td>\n",
       "    </tr>\n",
       "    <tr>\n",
       "      <td>7</td>\n",
       "      <td>2014-06-26</td>\n",
       "      <td>90.37</td>\n",
       "      <td>91.05</td>\n",
       "      <td>89.80</td>\n",
       "      <td>90.90</td>\n",
       "      <td>32595800</td>\n",
       "      <td>90.90</td>\n",
       "    </tr>\n",
       "    <tr>\n",
       "      <td>8</td>\n",
       "      <td>2014-06-25</td>\n",
       "      <td>90.21</td>\n",
       "      <td>90.70</td>\n",
       "      <td>89.65</td>\n",
       "      <td>90.36</td>\n",
       "      <td>36852200</td>\n",
       "      <td>90.36</td>\n",
       "    </tr>\n",
       "    <tr>\n",
       "      <td>9</td>\n",
       "      <td>2014-06-24</td>\n",
       "      <td>90.75</td>\n",
       "      <td>91.74</td>\n",
       "      <td>90.19</td>\n",
       "      <td>90.28</td>\n",
       "      <td>38988300</td>\n",
       "      <td>90.28</td>\n",
       "    </tr>\n",
       "  </tbody>\n",
       "</table>\n",
       "</div>"
      ],
      "text/plain": [
       "         Date   Open   High    Low  Close    Volume  Adj Close\n",
       "0  2014-07-08  96.27  96.80  93.92  95.35  65130000      95.35\n",
       "1  2014-07-07  94.14  95.99  94.10  95.97  56305400      95.97\n",
       "2  2014-07-03  93.67  94.10  93.20  94.03  22891800      94.03\n",
       "3  2014-07-02  93.87  94.06  93.09  93.48  28420900      93.48\n",
       "4  2014-07-01  93.52  94.07  93.13  93.52  38170200      93.52\n",
       "5  2014-06-30  92.10  93.73  92.09  92.93  49482300      92.93\n",
       "6  2014-06-27  90.82  92.00  90.77  91.98  64006800      91.98\n",
       "7  2014-06-26  90.37  91.05  89.80  90.90  32595800      90.90\n",
       "8  2014-06-25  90.21  90.70  89.65  90.36  36852200      90.36\n",
       "9  2014-06-24  90.75  91.74  90.19  90.28  38988300      90.28"
      ]
     },
     "execution_count": 187,
     "metadata": {},
     "output_type": "execute_result"
    }
   ],
   "source": [
    "from IPython.core.interactiveshell import InteractiveShell\n",
    "InteractiveShell.ast_node_interactivity = \"all\"\n",
    "\n",
    "import pandas as pd\n",
    "\n",
    "apple = pd.read_csv('https://raw.githubusercontent.com/vfp1/bts-mbds-data-science-foundations-2019/master/sessions/data/appl_1980_2014.csv')\n",
    "apple.head(10)\n",
    "\n",
    "# In the beginning I added \", index_col='Date', parse_dates=True\" to the read_csv but deleted it in the end to transform\n",
    "# Date to to_datetime, does it make a differnece?"
   ]
  },
  {
   "cell_type": "code",
   "execution_count": 186,
   "metadata": {},
   "outputs": [
    {
     "data": {
      "text/plain": [
       "Open         float64\n",
       "High         float64\n",
       "Low          float64\n",
       "Close        float64\n",
       "Volume         int64\n",
       "Adj Close    float64\n",
       "dtype: object"
      ]
     },
     "execution_count": 186,
     "metadata": {},
     "output_type": "execute_result"
    }
   ],
   "source": [
    "apple.dtypes"
   ]
  },
  {
   "cell_type": "code",
   "execution_count": 188,
   "metadata": {},
   "outputs": [
    {
     "data": {
      "text/plain": [
       "0   2014-07-08\n",
       "1   2014-07-07\n",
       "2   2014-07-03\n",
       "3   2014-07-02\n",
       "4   2014-07-01\n",
       "Name: Date, dtype: datetime64[ns]"
      ]
     },
     "execution_count": 188,
     "metadata": {},
     "output_type": "execute_result"
    }
   ],
   "source": [
    "apple.Date = pd.to_datetime(apple.Date)\n",
    "\n",
    "apple['Date'].head()"
   ]
  },
  {
   "cell_type": "code",
   "execution_count": 189,
   "metadata": {},
   "outputs": [
    {
     "data": {
      "text/html": [
       "<div>\n",
       "<style scoped>\n",
       "    .dataframe tbody tr th:only-of-type {\n",
       "        vertical-align: middle;\n",
       "    }\n",
       "\n",
       "    .dataframe tbody tr th {\n",
       "        vertical-align: top;\n",
       "    }\n",
       "\n",
       "    .dataframe thead th {\n",
       "        text-align: right;\n",
       "    }\n",
       "</style>\n",
       "<table border=\"1\" class=\"dataframe\">\n",
       "  <thead>\n",
       "    <tr style=\"text-align: right;\">\n",
       "      <th></th>\n",
       "      <th>Open</th>\n",
       "      <th>High</th>\n",
       "      <th>Low</th>\n",
       "      <th>Close</th>\n",
       "      <th>Volume</th>\n",
       "      <th>Adj Close</th>\n",
       "    </tr>\n",
       "    <tr>\n",
       "      <th>Date</th>\n",
       "      <th></th>\n",
       "      <th></th>\n",
       "      <th></th>\n",
       "      <th></th>\n",
       "      <th></th>\n",
       "      <th></th>\n",
       "    </tr>\n",
       "  </thead>\n",
       "  <tbody>\n",
       "    <tr>\n",
       "      <td>2014-07-08</td>\n",
       "      <td>96.27</td>\n",
       "      <td>96.80</td>\n",
       "      <td>93.92</td>\n",
       "      <td>95.35</td>\n",
       "      <td>65130000</td>\n",
       "      <td>95.35</td>\n",
       "    </tr>\n",
       "    <tr>\n",
       "      <td>2014-07-07</td>\n",
       "      <td>94.14</td>\n",
       "      <td>95.99</td>\n",
       "      <td>94.10</td>\n",
       "      <td>95.97</td>\n",
       "      <td>56305400</td>\n",
       "      <td>95.97</td>\n",
       "    </tr>\n",
       "    <tr>\n",
       "      <td>2014-07-03</td>\n",
       "      <td>93.67</td>\n",
       "      <td>94.10</td>\n",
       "      <td>93.20</td>\n",
       "      <td>94.03</td>\n",
       "      <td>22891800</td>\n",
       "      <td>94.03</td>\n",
       "    </tr>\n",
       "    <tr>\n",
       "      <td>2014-07-02</td>\n",
       "      <td>93.87</td>\n",
       "      <td>94.06</td>\n",
       "      <td>93.09</td>\n",
       "      <td>93.48</td>\n",
       "      <td>28420900</td>\n",
       "      <td>93.48</td>\n",
       "    </tr>\n",
       "    <tr>\n",
       "      <td>2014-07-01</td>\n",
       "      <td>93.52</td>\n",
       "      <td>94.07</td>\n",
       "      <td>93.13</td>\n",
       "      <td>93.52</td>\n",
       "      <td>38170200</td>\n",
       "      <td>93.52</td>\n",
       "    </tr>\n",
       "  </tbody>\n",
       "</table>\n",
       "</div>"
      ],
      "text/plain": [
       "             Open   High    Low  Close    Volume  Adj Close\n",
       "Date                                                       \n",
       "2014-07-08  96.27  96.80  93.92  95.35  65130000      95.35\n",
       "2014-07-07  94.14  95.99  94.10  95.97  56305400      95.97\n",
       "2014-07-03  93.67  94.10  93.20  94.03  22891800      94.03\n",
       "2014-07-02  93.87  94.06  93.09  93.48  28420900      93.48\n",
       "2014-07-01  93.52  94.07  93.13  93.52  38170200      93.52"
      ]
     },
     "execution_count": 189,
     "metadata": {},
     "output_type": "execute_result"
    }
   ],
   "source": [
    "apple = apple.set_index('Date')\n",
    "\n",
    "apple.head()"
   ]
  },
  {
   "cell_type": "code",
   "execution_count": 121,
   "metadata": {},
   "outputs": [
    {
     "data": {
      "text/html": [
       "<div>\n",
       "<style scoped>\n",
       "    .dataframe tbody tr th:only-of-type {\n",
       "        vertical-align: middle;\n",
       "    }\n",
       "\n",
       "    .dataframe tbody tr th {\n",
       "        vertical-align: top;\n",
       "    }\n",
       "\n",
       "    .dataframe thead th {\n",
       "        text-align: right;\n",
       "    }\n",
       "</style>\n",
       "<table border=\"1\" class=\"dataframe\">\n",
       "  <thead>\n",
       "    <tr style=\"text-align: right;\">\n",
       "      <th></th>\n",
       "      <th>Open</th>\n",
       "      <th>High</th>\n",
       "      <th>Low</th>\n",
       "      <th>Close</th>\n",
       "      <th>Volume</th>\n",
       "      <th>Adj Close</th>\n",
       "    </tr>\n",
       "    <tr>\n",
       "      <th>Date</th>\n",
       "      <th></th>\n",
       "      <th></th>\n",
       "      <th></th>\n",
       "      <th></th>\n",
       "      <th></th>\n",
       "      <th></th>\n",
       "    </tr>\n",
       "  </thead>\n",
       "  <tbody>\n",
       "    <tr>\n",
       "      <td>1980-12-18</td>\n",
       "      <td>26.63</td>\n",
       "      <td>26.75</td>\n",
       "      <td>26.63</td>\n",
       "      <td>26.63</td>\n",
       "      <td>18362400</td>\n",
       "      <td>0.41</td>\n",
       "    </tr>\n",
       "    <tr>\n",
       "      <td>1980-12-17</td>\n",
       "      <td>25.87</td>\n",
       "      <td>26.00</td>\n",
       "      <td>25.87</td>\n",
       "      <td>25.87</td>\n",
       "      <td>21610400</td>\n",
       "      <td>0.40</td>\n",
       "    </tr>\n",
       "    <tr>\n",
       "      <td>1980-12-16</td>\n",
       "      <td>25.37</td>\n",
       "      <td>25.37</td>\n",
       "      <td>25.25</td>\n",
       "      <td>25.25</td>\n",
       "      <td>26432000</td>\n",
       "      <td>0.39</td>\n",
       "    </tr>\n",
       "    <tr>\n",
       "      <td>1980-12-15</td>\n",
       "      <td>27.38</td>\n",
       "      <td>27.38</td>\n",
       "      <td>27.25</td>\n",
       "      <td>27.25</td>\n",
       "      <td>43971200</td>\n",
       "      <td>0.42</td>\n",
       "    </tr>\n",
       "    <tr>\n",
       "      <td>1980-12-12</td>\n",
       "      <td>28.75</td>\n",
       "      <td>28.87</td>\n",
       "      <td>28.75</td>\n",
       "      <td>28.75</td>\n",
       "      <td>117258400</td>\n",
       "      <td>0.45</td>\n",
       "    </tr>\n",
       "  </tbody>\n",
       "</table>\n",
       "</div>"
      ],
      "text/plain": [
       "             Open   High    Low  Close     Volume  Adj Close\n",
       "Date                                                        \n",
       "1980-12-18  26.63  26.75  26.63  26.63   18362400       0.41\n",
       "1980-12-17  25.87  26.00  25.87  25.87   21610400       0.40\n",
       "1980-12-16  25.37  25.37  25.25  25.25   26432000       0.39\n",
       "1980-12-15  27.38  27.38  27.25  27.25   43971200       0.42\n",
       "1980-12-12  28.75  28.87  28.75  28.75  117258400       0.45"
      ]
     },
     "execution_count": 121,
     "metadata": {},
     "output_type": "execute_result"
    }
   ],
   "source": [
    "apple.tail()"
   ]
  },
  {
   "cell_type": "markdown",
   "metadata": {},
   "source": [
    "Checking the last business days of Dec 2000 and 2013:"
   ]
  },
  {
   "cell_type": "code",
   "execution_count": 114,
   "metadata": {},
   "outputs": [
    {
     "data": {
      "text/plain": [
       "DatetimeIndex(['2000-12-27', '2000-12-28', '2000-12-29', '2001-01-01',\n",
       "               '2001-01-02'],\n",
       "              dtype='datetime64[ns]', freq='B')"
      ]
     },
     "execution_count": 114,
     "metadata": {},
     "output_type": "execute_result"
    }
   ],
   "source": [
    "from pandas.tseries.offsets import BDay\n",
    "pd.date_range('2000-12-27', periods=5, freq=BDay())"
   ]
  },
  {
   "cell_type": "code",
   "execution_count": 115,
   "metadata": {},
   "outputs": [
    {
     "data": {
      "text/plain": [
       "DatetimeIndex(['2013-12-27', '2013-12-30', '2013-12-31', '2014-01-01',\n",
       "               '2014-01-02'],\n",
       "              dtype='datetime64[ns]', freq='B')"
      ]
     },
     "execution_count": 115,
     "metadata": {},
     "output_type": "execute_result"
    }
   ],
   "source": [
    "pd.date_range('2013-12-27', periods=5, freq=BDay())"
   ]
  },
  {
   "cell_type": "code",
   "execution_count": 118,
   "metadata": {},
   "outputs": [
    {
     "name": "stdout",
     "output_type": "stream",
     "text": [
      "             Open  High   Low  Close     Volume  Adj Close\n",
      "Date                                                      \n",
      "2000-12-29  14.69  15.0  14.5  14.88  157584000       1.02\n",
      "              Open    High    Low   Close    Volume  Adj Close\n",
      "Date                                                          \n",
      "2013-12-31  554.17  561.28  554.0  561.02  55771100      79.23\n"
     ]
    }
   ],
   "source": [
    "print(apple.loc[\"2000-12-29\"])\n",
    "print(apple.loc[\"2013-12-31\"])"
   ]
  },
  {
   "cell_type": "markdown",
   "metadata": {},
   "source": [
    "Assuming we already had the best algorithms in 2000 and purchased the stocks to the lowest price and sold them in 2013 to the highest, I create a new dataframe with both values to substract them in the end:"
   ]
  },
  {
   "cell_type": "code",
   "execution_count": 193,
   "metadata": {},
   "outputs": [
    {
     "name": "stdout",
     "output_type": "stream",
     "text": [
      "Date\n",
      "2013-12-31    561.28\n",
      "Name: High, dtype: float64\n",
      "Date\n",
      "2000-12-29    14.5\n",
      "Name: Low, dtype: float64\n"
     ]
    }
   ],
   "source": [
    "apple_sold = apple.loc[\"2013-12-31\",\"High\"]\n",
    "apple_purchased = apple.loc[\"2000-12-29\",\"Low\"]\n",
    "\n",
    "print(apple_sold)\n",
    "print(apple_purchased)"
   ]
  },
  {
   "cell_type": "code",
   "execution_count": 166,
   "metadata": {},
   "outputs": [
    {
     "name": "stdout",
     "output_type": "stream",
     "text": [
      "Date\n",
      "2000-12-29   NaN\n",
      "2013-12-31   NaN\n",
      "dtype: float64\n"
     ]
    }
   ],
   "source": [
    "# I got stuck in here with subtracting the values, also when I only try apple[\"2013-12-31\",\"High\"] to get only the value\n",
    "# does not work.\n",
    "\n",
    "apple_profit = apple_sold - apple_purchased\n",
    "print(apple_profit)\n",
    "\n",
    "\n",
    "#apple_sold.subtract(apple_purchased) \n"
   ]
  },
  {
   "cell_type": "markdown",
   "metadata": {},
   "source": [
    "When was the peak maximum of volume of trades done? <br>\n",
    "Answer is in the top row: max trades were made on Sept 29, 2000"
   ]
  },
  {
   "cell_type": "code",
   "execution_count": 157,
   "metadata": {},
   "outputs": [
    {
     "data": {
      "text/html": [
       "<div>\n",
       "<style scoped>\n",
       "    .dataframe tbody tr th:only-of-type {\n",
       "        vertical-align: middle;\n",
       "    }\n",
       "\n",
       "    .dataframe tbody tr th {\n",
       "        vertical-align: top;\n",
       "    }\n",
       "\n",
       "    .dataframe thead th {\n",
       "        text-align: right;\n",
       "    }\n",
       "</style>\n",
       "<table border=\"1\" class=\"dataframe\">\n",
       "  <thead>\n",
       "    <tr style=\"text-align: right;\">\n",
       "      <th></th>\n",
       "      <th>Open</th>\n",
       "      <th>High</th>\n",
       "      <th>Low</th>\n",
       "      <th>Close</th>\n",
       "      <th>Volume</th>\n",
       "      <th>Adj Close</th>\n",
       "    </tr>\n",
       "    <tr>\n",
       "      <th>Date</th>\n",
       "      <th></th>\n",
       "      <th></th>\n",
       "      <th></th>\n",
       "      <th></th>\n",
       "      <th></th>\n",
       "      <th></th>\n",
       "    </tr>\n",
       "  </thead>\n",
       "  <tbody>\n",
       "    <tr>\n",
       "      <td>2000-09-29</td>\n",
       "      <td>28.19</td>\n",
       "      <td>29.00</td>\n",
       "      <td>25.38</td>\n",
       "      <td>25.75</td>\n",
       "      <td>1855410200</td>\n",
       "      <td>1.76</td>\n",
       "    </tr>\n",
       "    <tr>\n",
       "      <td>1997-08-06</td>\n",
       "      <td>25.25</td>\n",
       "      <td>27.75</td>\n",
       "      <td>25.00</td>\n",
       "      <td>26.31</td>\n",
       "      <td>1047620000</td>\n",
       "      <td>0.90</td>\n",
       "    </tr>\n",
       "    <tr>\n",
       "      <td>1997-08-07</td>\n",
       "      <td>28.75</td>\n",
       "      <td>29.56</td>\n",
       "      <td>28.37</td>\n",
       "      <td>29.19</td>\n",
       "      <td>938859600</td>\n",
       "      <td>1.00</td>\n",
       "    </tr>\n",
       "    <tr>\n",
       "      <td>2008-01-23</td>\n",
       "      <td>136.19</td>\n",
       "      <td>140.00</td>\n",
       "      <td>126.14</td>\n",
       "      <td>139.07</td>\n",
       "      <td>843242400</td>\n",
       "      <td>18.99</td>\n",
       "    </tr>\n",
       "    <tr>\n",
       "      <td>1999-09-21</td>\n",
       "      <td>73.19</td>\n",
       "      <td>73.25</td>\n",
       "      <td>69.00</td>\n",
       "      <td>69.25</td>\n",
       "      <td>839389600</td>\n",
       "      <td>2.36</td>\n",
       "    </tr>\n",
       "  </tbody>\n",
       "</table>\n",
       "</div>"
      ],
      "text/plain": [
       "              Open    High     Low   Close      Volume  Adj Close\n",
       "Date                                                             \n",
       "2000-09-29   28.19   29.00   25.38   25.75  1855410200       1.76\n",
       "1997-08-06   25.25   27.75   25.00   26.31  1047620000       0.90\n",
       "1997-08-07   28.75   29.56   28.37   29.19   938859600       1.00\n",
       "2008-01-23  136.19  140.00  126.14  139.07   843242400      18.99\n",
       "1999-09-21   73.19   73.25   69.00   69.25   839389600       2.36"
      ]
     },
     "execution_count": 157,
     "metadata": {},
     "output_type": "execute_result"
    }
   ],
   "source": [
    "apple_volume = apple.sort_values('Volume', ascending=False)\n",
    "apple_volume.head()"
   ]
  },
  {
   "cell_type": "markdown",
   "metadata": {},
   "source": [
    "When was the month with the lowest close? <br>\n",
    "The month with the lowest close (I took the mean over each month) was July 1982."
   ]
  },
  {
   "cell_type": "code",
   "execution_count": 198,
   "metadata": {},
   "outputs": [
    {
     "data": {
      "text/html": [
       "<div>\n",
       "<style scoped>\n",
       "    .dataframe tbody tr th:only-of-type {\n",
       "        vertical-align: middle;\n",
       "    }\n",
       "\n",
       "    .dataframe tbody tr th {\n",
       "        vertical-align: top;\n",
       "    }\n",
       "\n",
       "    .dataframe thead th {\n",
       "        text-align: right;\n",
       "    }\n",
       "</style>\n",
       "<table border=\"1\" class=\"dataframe\">\n",
       "  <thead>\n",
       "    <tr style=\"text-align: right;\">\n",
       "      <th></th>\n",
       "      <th></th>\n",
       "      <th>Open</th>\n",
       "      <th>High</th>\n",
       "      <th>Low</th>\n",
       "      <th>Close</th>\n",
       "      <th>Volume</th>\n",
       "      <th>Adj Close</th>\n",
       "    </tr>\n",
       "    <tr>\n",
       "      <th>Date</th>\n",
       "      <th>Date</th>\n",
       "      <th></th>\n",
       "      <th></th>\n",
       "      <th></th>\n",
       "      <th></th>\n",
       "      <th></th>\n",
       "      <th></th>\n",
       "    </tr>\n",
       "  </thead>\n",
       "  <tbody>\n",
       "    <tr>\n",
       "      <td rowspan=\"2\" valign=\"top\">1982</td>\n",
       "      <td>7</td>\n",
       "      <td>12.881429</td>\n",
       "      <td>12.970476</td>\n",
       "      <td>12.839524</td>\n",
       "      <td>12.839524</td>\n",
       "      <td>1.688347e+07</td>\n",
       "      <td>0.200000</td>\n",
       "    </tr>\n",
       "    <tr>\n",
       "      <td>6</td>\n",
       "      <td>13.308182</td>\n",
       "      <td>13.386364</td>\n",
       "      <td>13.240000</td>\n",
       "      <td>13.240000</td>\n",
       "      <td>9.132327e+06</td>\n",
       "      <td>0.205455</td>\n",
       "    </tr>\n",
       "    <tr>\n",
       "      <td>2003</td>\n",
       "      <td>4</td>\n",
       "      <td>13.879524</td>\n",
       "      <td>14.085238</td>\n",
       "      <td>13.622857</td>\n",
       "      <td>13.848571</td>\n",
       "      <td>9.256360e+07</td>\n",
       "      <td>0.946190</td>\n",
       "    </tr>\n",
       "    <tr>\n",
       "      <td>1997</td>\n",
       "      <td>12</td>\n",
       "      <td>14.567273</td>\n",
       "      <td>14.773182</td>\n",
       "      <td>14.188182</td>\n",
       "      <td>14.402273</td>\n",
       "      <td>5.792945e+07</td>\n",
       "      <td>0.491818</td>\n",
       "    </tr>\n",
       "    <tr>\n",
       "      <td>2003</td>\n",
       "      <td>1</td>\n",
       "      <td>14.468095</td>\n",
       "      <td>14.737619</td>\n",
       "      <td>14.232381</td>\n",
       "      <td>14.475238</td>\n",
       "      <td>7.197420e+07</td>\n",
       "      <td>0.988571</td>\n",
       "    </tr>\n",
       "    <tr>\n",
       "      <td>...</td>\n",
       "      <td>...</td>\n",
       "      <td>...</td>\n",
       "      <td>...</td>\n",
       "      <td>...</td>\n",
       "      <td>...</td>\n",
       "      <td>...</td>\n",
       "      <td>...</td>\n",
       "    </tr>\n",
       "    <tr>\n",
       "      <td>2014</td>\n",
       "      <td>5</td>\n",
       "      <td>601.301905</td>\n",
       "      <td>606.372857</td>\n",
       "      <td>598.332857</td>\n",
       "      <td>603.195714</td>\n",
       "      <td>6.828177e+07</td>\n",
       "      <td>86.058571</td>\n",
       "    </tr>\n",
       "    <tr>\n",
       "      <td rowspan=\"4\" valign=\"top\">2012</td>\n",
       "      <td>4</td>\n",
       "      <td>609.607500</td>\n",
       "      <td>615.487500</td>\n",
       "      <td>598.650000</td>\n",
       "      <td>606.003000</td>\n",
       "      <td>1.949874e+08</td>\n",
       "      <td>82.746500</td>\n",
       "    </tr>\n",
       "    <tr>\n",
       "      <td>10</td>\n",
       "      <td>638.667143</td>\n",
       "      <td>643.650476</td>\n",
       "      <td>628.213810</td>\n",
       "      <td>634.714286</td>\n",
       "      <td>1.445575e+08</td>\n",
       "      <td>87.040476</td>\n",
       "    </tr>\n",
       "    <tr>\n",
       "      <td>8</td>\n",
       "      <td>641.527826</td>\n",
       "      <td>646.655217</td>\n",
       "      <td>637.138261</td>\n",
       "      <td>642.696087</td>\n",
       "      <td>8.995877e+07</td>\n",
       "      <td>88.040000</td>\n",
       "    </tr>\n",
       "    <tr>\n",
       "      <td>9</td>\n",
       "      <td>682.118421</td>\n",
       "      <td>687.007895</td>\n",
       "      <td>676.095263</td>\n",
       "      <td>681.568421</td>\n",
       "      <td>1.210395e+08</td>\n",
       "      <td>93.464211</td>\n",
       "    </tr>\n",
       "  </tbody>\n",
       "</table>\n",
       "<p>404 rows × 6 columns</p>\n",
       "</div>"
      ],
      "text/plain": [
       "                 Open        High         Low       Close        Volume  \\\n",
       "Date Date                                                                 \n",
       "1982 7      12.881429   12.970476   12.839524   12.839524  1.688347e+07   \n",
       "     6      13.308182   13.386364   13.240000   13.240000  9.132327e+06   \n",
       "2003 4      13.879524   14.085238   13.622857   13.848571  9.256360e+07   \n",
       "1997 12     14.567273   14.773182   14.188182   14.402273  5.792945e+07   \n",
       "2003 1      14.468095   14.737619   14.232381   14.475238  7.197420e+07   \n",
       "...               ...         ...         ...         ...           ...   \n",
       "2014 5     601.301905  606.372857  598.332857  603.195714  6.828177e+07   \n",
       "2012 4     609.607500  615.487500  598.650000  606.003000  1.949874e+08   \n",
       "     10    638.667143  643.650476  628.213810  634.714286  1.445575e+08   \n",
       "     8     641.527826  646.655217  637.138261  642.696087  8.995877e+07   \n",
       "     9     682.118421  687.007895  676.095263  681.568421  1.210395e+08   \n",
       "\n",
       "           Adj Close  \n",
       "Date Date             \n",
       "1982 7      0.200000  \n",
       "     6      0.205455  \n",
       "2003 4      0.946190  \n",
       "1997 12     0.491818  \n",
       "2003 1      0.988571  \n",
       "...              ...  \n",
       "2014 5     86.058571  \n",
       "2012 4     82.746500  \n",
       "     10    87.040476  \n",
       "     8     88.040000  \n",
       "     9     93.464211  \n",
       "\n",
       "[404 rows x 6 columns]"
      ]
     },
     "execution_count": 198,
     "metadata": {},
     "output_type": "execute_result"
    }
   ],
   "source": [
    "month_lowest_close = apple.groupby([(apple.index.year),(apple.index.month)]).mean()\n",
    "month_lowest_close.sort_values('Close', ascending=True)"
   ]
  },
  {
   "cell_type": "markdown",
   "metadata": {},
   "source": [
    "And the lowest close of the day in the whole dataset? <br>\n",
    "Answer is in the top row: lowest close was on July 08, 1982"
   ]
  },
  {
   "cell_type": "code",
   "execution_count": 156,
   "metadata": {},
   "outputs": [
    {
     "data": {
      "text/html": [
       "<div>\n",
       "<style scoped>\n",
       "    .dataframe tbody tr th:only-of-type {\n",
       "        vertical-align: middle;\n",
       "    }\n",
       "\n",
       "    .dataframe tbody tr th {\n",
       "        vertical-align: top;\n",
       "    }\n",
       "\n",
       "    .dataframe thead th {\n",
       "        text-align: right;\n",
       "    }\n",
       "</style>\n",
       "<table border=\"1\" class=\"dataframe\">\n",
       "  <thead>\n",
       "    <tr style=\"text-align: right;\">\n",
       "      <th></th>\n",
       "      <th>Open</th>\n",
       "      <th>High</th>\n",
       "      <th>Low</th>\n",
       "      <th>Close</th>\n",
       "      <th>Volume</th>\n",
       "      <th>Adj Close</th>\n",
       "    </tr>\n",
       "    <tr>\n",
       "      <th>Date</th>\n",
       "      <th></th>\n",
       "      <th></th>\n",
       "      <th></th>\n",
       "      <th></th>\n",
       "      <th></th>\n",
       "      <th></th>\n",
       "    </tr>\n",
       "  </thead>\n",
       "  <tbody>\n",
       "    <tr>\n",
       "      <td>1982-07-08</td>\n",
       "      <td>11.12</td>\n",
       "      <td>11.12</td>\n",
       "      <td>11.00</td>\n",
       "      <td>11.00</td>\n",
       "      <td>41081600</td>\n",
       "      <td>0.17</td>\n",
       "    </tr>\n",
       "    <tr>\n",
       "      <td>1982-07-09</td>\n",
       "      <td>11.37</td>\n",
       "      <td>11.50</td>\n",
       "      <td>11.37</td>\n",
       "      <td>11.37</td>\n",
       "      <td>32104800</td>\n",
       "      <td>0.18</td>\n",
       "    </tr>\n",
       "    <tr>\n",
       "      <td>1982-07-06</td>\n",
       "      <td>11.63</td>\n",
       "      <td>11.63</td>\n",
       "      <td>11.50</td>\n",
       "      <td>11.50</td>\n",
       "      <td>21924000</td>\n",
       "      <td>0.18</td>\n",
       "    </tr>\n",
       "    <tr>\n",
       "      <td>1982-07-07</td>\n",
       "      <td>11.50</td>\n",
       "      <td>11.63</td>\n",
       "      <td>11.50</td>\n",
       "      <td>11.50</td>\n",
       "      <td>7593600</td>\n",
       "      <td>0.18</td>\n",
       "    </tr>\n",
       "    <tr>\n",
       "      <td>1982-07-12</td>\n",
       "      <td>11.63</td>\n",
       "      <td>11.75</td>\n",
       "      <td>11.63</td>\n",
       "      <td>11.63</td>\n",
       "      <td>15848000</td>\n",
       "      <td>0.18</td>\n",
       "    </tr>\n",
       "  </tbody>\n",
       "</table>\n",
       "</div>"
      ],
      "text/plain": [
       "             Open   High    Low  Close    Volume  Adj Close\n",
       "Date                                                       \n",
       "1982-07-08  11.12  11.12  11.00  11.00  41081600       0.17\n",
       "1982-07-09  11.37  11.50  11.37  11.37  32104800       0.18\n",
       "1982-07-06  11.63  11.63  11.50  11.50  21924000       0.18\n",
       "1982-07-07  11.50  11.63  11.50  11.50   7593600       0.18\n",
       "1982-07-12  11.63  11.75  11.63  11.63  15848000       0.18"
      ]
     },
     "execution_count": 156,
     "metadata": {},
     "output_type": "execute_result"
    }
   ],
   "source": [
    "apple_close = apple.sort_values('Close', ascending=True)\n",
    "apple_close.head()"
   ]
  }
 ],
 "metadata": {
  "colab": {
   "collapsed_sections": [],
   "name": "DSF_WEEK_1_EXERCISES.ipynb",
   "provenance": []
  },
  "kernelspec": {
   "display_name": "Python 3",
   "language": "python",
   "name": "python3"
  },
  "language_info": {
   "codemirror_mode": {
    "name": "ipython",
    "version": 3
   },
   "file_extension": ".py",
   "mimetype": "text/x-python",
   "name": "python",
   "nbconvert_exporter": "python",
   "pygments_lexer": "ipython3",
   "version": "3.7.4"
  }
 },
 "nbformat": 4,
 "nbformat_minor": 1
}
